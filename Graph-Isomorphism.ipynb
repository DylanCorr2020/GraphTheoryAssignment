{
 "cells": [
  {
   "cell_type": "markdown",
   "id": "daf7b768",
   "metadata": {},
   "source": [
    "# graph-isomorphism"
   ]
  },
  {
   "cell_type": "markdown",
   "id": "bc0a5e5e",
   "metadata": {},
   "source": [
    "## Assignment\n",
    "<ul>\n",
    "    <li>Explanation of the Graph Iomorphism Problem</li>\n",
    "<li>Explanation of how graphs can be represented in data structures</li>\n",
    "<li>Discussion of the computational complexity of the Graph Isomorphism Problem</li>\n",
    "</ul>\n",
    "\n"
   ]
  },
  {
   "cell_type": "markdown",
   "id": "51ffce8c",
   "metadata": {},
   "source": [
    "## Graph Isomorphism Problem"
   ]
  },
  {
   "cell_type": "markdown",
   "id": "0fc2a9c3",
   "metadata": {},
   "source": [
    "Isomorphism is when two graphs have the exact same structure.\n",
    "Look at two seperate graphs and work out do they have the exact same structure.\n",
    "Same number of nodes and these nodes are connected the same way and can can convert one into another.\n",
    "\n",
    "\n",
    "Set: We use curly braces to denote a set. \n",
    "     Sets are the most basic construct you can have in mathmatics.\n",
    "     They contain elements, no order, no count of elements. e.g {A,B,C,D}\n",
    "     In computing, it is a set of integers. \n",
    "     \n",
    "Tuple: A tuple is sometimes called a list or an array, should be finite in length, it has unlimted elements.\n",
    "       The elements do have a order and repetition is allowed ie same element more then once.\n",
    "       Elements dont all have to come from the same set but generally do.\n",
    "       Usually you write a tuple with round brackets and elements are seperarted by commas. eg. (A,B,B,D).\n",
    "       The element of the left hand side is the first element in the tuple.\n",
    "       In computing, it is a list.\n",
    "       \n",
    " Map: A map is also called a function as in mathmatics, inputs mapped to outputs.\n",
    "      A map is a set itself {} and everyting in the set is a pair tuple, a list containing two elements.\n",
    "      Across the hole set of the map, the left hand tuple element can only appear once.\n",
    "      The right hand tuple element can appear more then once.\n",
    "      \n",
    "      \n",
    " Bijection: In a map, every element on the right is pointed to one element on the left. \n",
    "            Therefore, the map is reversible and clear.\n",
    "      \n",
    "       \n",
    " Graph: G = (V,E) it is a two tuble because E is the edges and V is the vertices.\n",
    "        V is the set of nodes e.g {1,2,3,4}\n",
    "        E is an edge set represented by a V pair subset e.g {1,2}, there is no order.\n",
    "       \n",
    "       \n",
    " Isomorphism: When the two graphs have the exact same structure, \n",
    " G1 = (V1,E1) = G2 = (V2,E2)\n",
    " The way we prove that graphs are isomorphic, is to look for a bijection between the vertext set V1 and \n",
    " vertext set V2. \n",
    " Draw arrows from the nodes in G1 to the nodes in G2, one node on the left must go to only one node on the right and vice versa.\n",
    " The challange is to try and draw lines between the nodes in G1 to the nodes in G2.\n",
    " Also, you can only have an edge on the right between nodes that have an edge between them on the left.\n",
    " You cant have an edge on the right if there is no edge on the left.\n",
    " i.e.Nodes connected by edges must go to nodes connected by edges.\n",
    " Nodes not connected by edges must go nodes not connected by edges.\n",
    "       \n",
    "       \n"
   ]
  },
  {
   "cell_type": "markdown",
   "id": "0b625769",
   "metadata": {},
   "source": [
    "Is the graph on the left isomorphic to the graph on the right?\n",
    "Start with finding a bijection of one vertex on the right to another vertext on the left.\n",
    "Name one vertex on the right to be the first vertex and something to map to the right. It could be many possiblities.\n",
    "Move on to the second vertex on the left and mapped to anonther vertex to the right. Less possibilities.\n",
    "Given n vertices there are n factorial possibe maps.\n",
    "Possibilites can be reduced given that vertex on the right must have same number of edges as the vertex on the left.\n",
    "ie degree 3 vertex on the left must be mapped to degree 3 vertex on the right.(Edges are preserved).\n",
    "Also check if both graphs have the same number of nodes or edges.\n",
    "We want to try not to do perform the worst case calculation e.i n factorial where n is the number of nodes.Therefor,the isomorophic problem is that, in order to find out if two graphs are the same, you may have to consider n factorial maps  which is a mammoth calculation!\n",
    "\n",
    "Shortcuts is to consider number of vertices, number of edges and number of degress. One iterestig point about the graph isomorphic problem is it can represented as a set of binary strings.\n",
    "\n",
    "\n",
    "### Adjacency Matrix\n",
    "\n",
    "You can represent a graph in an adjacency matrix.\n",
    "The adjacency matrix is a matrix mapping nodes in one graph to the nodes in another graph.\n",
    "The nodes are listed both horizontally and vertically in the matrix.\n",
    "Put a zero or one in each entry of the matrix.(1 means its connected and 0 means its not).\n",
    "All of the structure of the graph is contained in the matrix.\n",
    "No node can be connected to itself. \n",
    "In a simple graph, you always have zeros down the main diagonal. \n",
    "The rows and cloumns are inter changable.\n",
    "If you turn the rows into columns you get the same matrix ie its stymetric.\n",
    "\n",
    "\n"
   ]
  },
  {
   "cell_type": "markdown",
   "id": "58ddb04f",
   "metadata": {},
   "source": [
    "###  Permutations\n",
    "Its important to know permuatations when trying to compare one graph from another."
   ]
  },
  {
   "cell_type": "code",
   "execution_count": 1,
   "id": "79e45cce",
   "metadata": {},
   "outputs": [],
   "source": [
    "#Here is a list of five distinct elements\n",
    "L = [1,2,3,4,5] "
   ]
  },
  {
   "cell_type": "code",
   "execution_count": 2,
   "id": "7b512688",
   "metadata": {},
   "outputs": [
    {
     "data": {
      "text/plain": [
       "120"
      ]
     },
     "execution_count": 2,
     "metadata": {},
     "output_type": "execute_result"
    }
   ],
   "source": [
    "#Here is a permutation of L called M\n",
    "M = [2,1,3,4,5] # not the same list \n",
    "# permutation is the process of getting from L to M\n",
    "#all elements are there but in differnt order\n",
    "#to get all permutations you can use brute force \n",
    "##Clever sorting algorithms avoids generating all permutations\n",
    "#permutations are used alot in sorting algorithms.\n",
    "#As the number of elements increases the permuatations increase massively\n",
    "#Example The number of permutations of 5 elements is\n",
    "\n",
    "5*4*3*2*1\n"
   ]
  },
  {
   "cell_type": "code",
   "execution_count": 3,
   "id": "9c1fb7a3",
   "metadata": {},
   "outputs": [
    {
     "data": {
      "text/plain": [
       "720"
      ]
     },
     "execution_count": 3,
     "metadata": {},
     "output_type": "execute_result"
    }
   ],
   "source": [
    "#The number of permutations of 6 elements is\n",
    "6*5*4*3*2*1 "
   ]
  },
  {
   "cell_type": "code",
   "execution_count": 4,
   "id": "1acae193",
   "metadata": {},
   "outputs": [
    {
     "data": {
      "text/plain": [
       "93326215443944152681699238856266700490715968264381621468592963895217599993229915608941463976156518286253697920827223758251185210916864000000000000000000000000"
      ]
     },
     "execution_count": 4,
     "metadata": {},
     "output_type": "execute_result"
    }
   ],
   "source": [
    "#When the number of elements is 100 you can see how massive number of permutations is\n",
    "import math\n",
    "math.factorial(100)"
   ]
  },
  {
   "cell_type": "markdown",
   "id": "37295538",
   "metadata": {},
   "source": [
    "### Algoritm to get all the permutations of a number of elements\n",
    "Avoid storing all permutations in mememory at the same time\n",
    "This algotithm uses python intertools."
   ]
  },
  {
   "cell_type": "code",
   "execution_count": 6,
   "id": "01af4872",
   "metadata": {},
   "outputs": [
    {
     "name": "stdout",
     "output_type": "stream",
     "text": [
      "(1, 2, 3, 4)\n",
      "(1, 2, 4, 3)\n",
      "(1, 3, 2, 4)\n",
      "(1, 3, 4, 2)\n",
      "(1, 4, 2, 3)\n",
      "(1, 4, 3, 2)\n",
      "(2, 1, 3, 4)\n",
      "(2, 1, 4, 3)\n",
      "(2, 3, 1, 4)\n",
      "(2, 3, 4, 1)\n",
      "(2, 4, 1, 3)\n",
      "(2, 4, 3, 1)\n",
      "(3, 1, 2, 4)\n",
      "(3, 1, 4, 2)\n",
      "(3, 2, 1, 4)\n",
      "(3, 2, 4, 1)\n",
      "(3, 4, 1, 2)\n",
      "(3, 4, 2, 1)\n",
      "(4, 1, 2, 3)\n",
      "(4, 1, 3, 2)\n",
      "(4, 2, 1, 3)\n",
      "(4, 2, 3, 1)\n",
      "(4, 3, 1, 2)\n",
      "(4, 3, 2, 1)\n"
     ]
    }
   ],
   "source": [
    "#from python standard library\n",
    "import itertools as it\n",
    "#all the permuations of 1,2,3,4\n",
    "for p in it.permutations([1,2,3,4]):\n",
    "    print(p)"
   ]
  },
  {
   "cell_type": "code",
   "execution_count": 7,
   "id": "2251e8e2",
   "metadata": {},
   "outputs": [
    {
     "name": "stdout",
     "output_type": "stream",
     "text": [
      "(1, 2, 3, 4)\n"
     ]
    }
   ],
   "source": [
    "#In python you can use intertools permutation function to sort elements in a list\n",
    "#from python standard library\n",
    "#O(n!)\n",
    "import itertools as it\n",
    "#all the permuations of 1,2,3,4\n",
    "#gets instantiated as an object\n",
    "for p in it.permutations([2,1,4,3]):\n",
    "    if p[0] <= p[1] and p[1] <= p[2]  and p[2] <= p[3]:\n",
    "        print(p)"
   ]
  },
  {
   "cell_type": "code",
   "execution_count": 8,
   "id": "64fdf420",
   "metadata": {},
   "outputs": [
    {
     "name": "stdout",
     "output_type": "stream",
     "text": [
      "0 1 1\n",
      "1 0 1\n",
      "1 1 0\n",
      "\n"
     ]
    },
    {
     "data": {
      "image/png": "[encoded data removed]",
      "text/plain": [
       "<Figure size 432x288 with 1 Axes>"
      ]
     },
     "metadata": {},
     "output_type": "display_data"
    }
   ],
   "source": [
    "#Algorithm to brute force the graph isomorphism problem\n",
    "import numpy as np\n",
    "\n",
    "#Graph plotting libaray\n",
    "import networkx as nx\n",
    "\n",
    "import matplotlib.pyplot as plt\n",
    "\n",
    " #Networkx drawing parameters.\n",
    "params = {'node_color': 'lightskyblue', 'node_size': 800, 'font_size': 18, 'with_labels': True}\n",
    "\n",
    "#create an empty graph\n",
    "G = nx.Graph()\n",
    "# Create a set of edges.\n",
    "# Note that ideally this would be written as {{0, 1}, {1, 2}, {0, 2}}.\n",
    "# E should be a set of two-subsets of a finite set V (which is defined implicitly from E).\n",
    "E = ((0, 1), (1, 2), (0, 2))\n",
    "\n",
    "# Incorporate the edges in G.\n",
    "# The nodes are just created as needed, based on E.\n",
    "G.add_edges_from(E)\n",
    "\n",
    "# Draw G.\n",
    "nx.draw_circular(G, **params)\n",
    "\n",
    "\n",
    "\n",
    "#Draw adjacency matrix\n",
    "#1 means it connected and 0 means its not\n",
    "#floating point numbers used as the default\n",
    "\n",
    "A = nx.to_numpy_array(G).astype(np.uint8)\n",
    "#print(A)\n",
    "\n",
    "# The transpose of A.\n",
    "#print(A.T)\n",
    "\n",
    "# A slightly cleaner way to print (binary) matrices.\n",
    "def matrix_print(A):\n",
    "  # Loop through rows of A.\n",
    "  for r in A:\n",
    "    # Print the current row, removing the brackets numpy puts in.\n",
    "    print(str(r)[1:-1])\n",
    "  # Print a blank line.\n",
    "  print()\n",
    "\n",
    "\n",
    "    \n",
    "matrix_print(A)"
   ]
  },
  {
   "cell_type": "markdown",
   "id": "94d20806",
   "metadata": {},
   "source": [
    "It would be interesting  to create a adjacency matrices for the two graphs and compare the two matrices to see if they are the same graph.\n"
   ]
  },
  {
   "cell_type": "markdown",
   "id": "f9732d7c",
   "metadata": {},
   "source": [
    "What happens if you move the nodes around.Swaping the lables of the nodes. You change the order of the rows and columns.\n"
   ]
  },
  {
   "cell_type": "code",
   "execution_count": 9,
   "id": "366e07fc",
   "metadata": {},
   "outputs": [
    {
     "name": "stdout",
     "output_type": "stream",
     "text": [
      "(1, 2, 3)\n",
      "(1, 3, 2)\n",
      "(2, 1, 3)\n",
      "(2, 3, 1)\n",
      "(3, 1, 2)\n",
      "(3, 2, 1)\n"
     ]
    }
   ],
   "source": [
    "import itertools as it\n",
    "# A list of numbers.\n",
    "L = list(range(1, 4))\n",
    "L\n",
    "\n",
    "# All permutations of that list.\n",
    "# Note that it.permutations returns a generator.\n",
    "# The number of permutations grows very fast compared to the length of the list.\n",
    "perms = it.permutations(L)\n",
    "# Print the permutations.\n",
    "for perm in perms:\n",
    "  print(perm)"
   ]
  },
  {
   "cell_type": "markdown",
   "id": "cdebf956",
   "metadata": {},
   "source": [
    "### Identity Matrix and Matrix Multiplication\n",
    "If you multiply by the identity matrix you get the same matrix back.\n"
   ]
  },
  {
   "cell_type": "code",
   "execution_count": 10,
   "id": "47628490",
   "metadata": {},
   "outputs": [
    {
     "name": "stdout",
     "output_type": "stream",
     "text": [
      "1 2\n",
      "3 4\n",
      "\n"
     ]
    }
   ],
   "source": [
    "\n",
    "\n",
    "A = np.array([[1,2],[3,4]], dtype=np.uint8)\n",
    "matrix_print(A)"
   ]
  },
  {
   "cell_type": "code",
   "execution_count": 11,
   "id": "aa0dc546",
   "metadata": {},
   "outputs": [
    {
     "name": "stdout",
     "output_type": "stream",
     "text": [
      "1 0\n",
      "0 1\n",
      "\n"
     ]
    }
   ],
   "source": [
    "#create the identity matrix\n",
    "I = np.identity(2, dtype=np.uint8)\n",
    "matrix_print(I)"
   ]
  },
  {
   "cell_type": "code",
   "execution_count": 12,
   "id": "fd1c2667",
   "metadata": {},
   "outputs": [
    {
     "name": "stdout",
     "output_type": "stream",
     "text": [
      "1 2\n",
      "3 4\n",
      "\n"
     ]
    }
   ],
   "source": [
    "#@ allows you to do matrix multiplication\n",
    "#multiply the identity matrix by the normal matrix gives you this\n",
    "matrix_print(A @ I)"
   ]
  },
  {
   "cell_type": "markdown",
   "id": "ca1d3247",
   "metadata": {},
   "source": [
    "### Permutations Matrices \n",
    "The purpose of permutation matrices is to change around the rows and columns of A. "
   ]
  },
  {
   "cell_type": "code",
   "execution_count": 13,
   "id": "ef5468a0",
   "metadata": {},
   "outputs": [],
   "source": [
    "#In a 2 x 2 matrix you only have one permuatation matrix\n",
    "P = np.array([[0,1],[1,0]], dtype=np.uint8)\n",
    "\n"
   ]
  },
  {
   "cell_type": "code",
   "execution_count": 14,
   "id": "e5a28e5e",
   "metadata": {},
   "outputs": [
    {
     "name": "stdout",
     "output_type": "stream",
     "text": [
      "2 1\n",
      "4 3\n",
      "\n"
     ]
    }
   ],
   "source": [
    "#you can use the permuatation matrix to swap rows and columns\n",
    "#put P on the right swaps columns\n",
    "matrix_print(A @ P)"
   ]
  },
  {
   "cell_type": "code",
   "execution_count": 15,
   "id": "94c7b476",
   "metadata": {},
   "outputs": [
    {
     "name": "stdout",
     "output_type": "stream",
     "text": [
      "3 4\n",
      "1 2\n",
      "\n"
     ]
    }
   ],
   "source": [
    "#this time you are swaping the rows \n",
    "#put P on the left swaps rows\n",
    "matrix_print(P @ A)"
   ]
  },
  {
   "cell_type": "code",
   "execution_count": 16,
   "id": "eee0e82f",
   "metadata": {},
   "outputs": [
    {
     "name": "stdout",
     "output_type": "stream",
     "text": [
      "1 0 0\n",
      "0 1 0\n",
      "0 0 1\n",
      "\n"
     ]
    }
   ],
   "source": [
    "#Here is a 3 dimensional identity matrix\n",
    "I = np.identity(3,dtype=np.uint8)\n",
    "\n",
    "matrix_print(I)"
   ]
  },
  {
   "cell_type": "code",
   "execution_count": 17,
   "id": "b0fad657",
   "metadata": {},
   "outputs": [
    {
     "name": "stdout",
     "output_type": "stream",
     "text": [
      "0 1 0\n",
      "1 0 0\n",
      "0 0 1\n",
      "\n"
     ]
    }
   ],
   "source": [
    "#picking different rows in python\n",
    "#This good way of creating permutation matrices\n",
    "P = I[[1, 0, 2]]\n",
    "matrix_print(P)"
   ]
  },
  {
   "cell_type": "code",
   "execution_count": 18,
   "id": "b005a2e3",
   "metadata": {},
   "outputs": [
    {
     "name": "stdout",
     "output_type": "stream",
     "text": [
      "1 2 3\n",
      "4 5 6\n",
      "7 8 9\n",
      "\n"
     ]
    }
   ],
   "source": [
    "#Here is an example of a 3 dimesional matrix swapping rows and columns using P the permutation matrix and putting P on the\n",
    "#left or right\n",
    "A = np.array([[1, 2, 3], [4, 5, 6], [7, 8, 9]], dtype=np.uint8)\n",
    "matrix_print(A)"
   ]
  },
  {
   "cell_type": "code",
   "execution_count": 19,
   "id": "a39557be",
   "metadata": {},
   "outputs": [
    {
     "name": "stdout",
     "output_type": "stream",
     "text": [
      "2 1 3\n",
      "5 4 6\n",
      "8 7 9\n",
      "\n"
     ]
    }
   ],
   "source": [
    "#This is swaping the cloumns\n",
    "matrix_print(A @ P)"
   ]
  },
  {
   "cell_type": "code",
   "execution_count": 20,
   "id": "22ace274",
   "metadata": {},
   "outputs": [
    {
     "name": "stdout",
     "output_type": "stream",
     "text": [
      "4 5 6\n",
      "1 2 3\n",
      "7 8 9\n",
      "\n"
     ]
    }
   ],
   "source": [
    "# Permute rows using P.\n",
    "matrix_print(P @ A)"
   ]
  },
  {
   "cell_type": "code",
   "execution_count": 21,
   "id": "79c7fdcb",
   "metadata": {},
   "outputs": [
    {
     "name": "stdout",
     "output_type": "stream",
     "text": [
      "0 1 0\n",
      "0 0 1\n",
      "1 0 0\n",
      "\n"
     ]
    }
   ],
   "source": [
    "#Create a new permutation\n",
    "P = I[[1, 2, 0]]\n",
    "matrix_print(P)"
   ]
  },
  {
   "cell_type": "code",
   "execution_count": 22,
   "id": "5266ceae",
   "metadata": {},
   "outputs": [
    {
     "name": "stdout",
     "output_type": "stream",
     "text": [
      "4 5 6\n",
      "7 8 9\n",
      "1 2 3\n",
      "\n"
     ]
    }
   ],
   "source": [
    "\n",
    "#Permute the rows.\n",
    "# Note the rows are reversed by 1 \n",
    "matrix_print(P @ A)"
   ]
  },
  {
   "cell_type": "code",
   "execution_count": 23,
   "id": "315a6006",
   "metadata": {},
   "outputs": [
    {
     "name": "stdout",
     "output_type": "stream",
     "text": [
      "3 1 2\n",
      "6 4 5\n",
      "9 7 8\n",
      "\n"
     ]
    }
   ],
   "source": [
    "#Permute the columns.\n",
    "# Note the columns are advanced by 1 \n",
    "matrix_print(A @ P)\n",
    "#The transformation pattern is different for rows and columns"
   ]
  },
  {
   "cell_type": "code",
   "execution_count": 24,
   "id": "7d59d59b",
   "metadata": {},
   "outputs": [
    {
     "name": "stdout",
     "output_type": "stream",
     "text": [
      "7 8 9\n",
      "1 2 3\n",
      "4 5 6\n",
      "\n"
     ]
    }
   ],
   "source": [
    "#In order to get the rows advance like the columns use the tranpose of P\n",
    "matrix_print( P.T @ A)"
   ]
  }
 ],
 "metadata": {
  "kernelspec": {
   "display_name": "Python 3 (ipykernel)",
   "language": "python",
   "name": "python3"
  },
  "language_info": {
   "codemirror_mode": {
    "name": "ipython",
    "version": 3
   },
   "file_extension": ".py",
   "mimetype": "text/x-python",
   "name": "python",
   "nbconvert_exporter": "python",
   "pygments_lexer": "ipython3",
   "version": "3.9.7"
  }
 },
 "nbformat": 4,
 "nbformat_minor": 5
}
