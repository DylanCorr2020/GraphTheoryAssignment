{
 "cells": [
  {
   "cell_type": "markdown",
   "id": "daf7b768",
   "metadata": {},
   "source": [
    "# graph-isomorphism"
   ]
  },
  {
   "cell_type": "markdown",
   "id": "bc0a5e5e",
   "metadata": {},
   "source": [
    "## Assignment\n",
    "<ul>\n",
    "    <li>Explanation of the Graph Iomorphism Problem</li>\n",
    "<li>Explanation of how graphs can be represented in data structures</li>\n",
    "<li>Discussion of the computational complexity of the Graph Isomorphism Problem</li>\n",
    "</ul>\n",
    "\n"
   ]
  },
  {
   "cell_type": "markdown",
   "id": "51ffce8c",
   "metadata": {},
   "source": [
    "## Graph Isomorphism Problem"
   ]
  },
  {
   "cell_type": "markdown",
   "id": "0fc2a9c3",
   "metadata": {},
   "source": [
    "Isomorphism is when two graphs have the exact same structure.\n",
    "Look at two seperate graphs and work out do they have the exact same structure.\n",
    "Same number of nodes and these nodes are connected the same way and can can convert one into another.\n",
    "\n",
    "\n",
    "Set: We use curly braces to denote a set. \n",
    "     Sets are the most basic construct you can have in mathmatics.\n",
    "     They contain elements, no order, no count of elements. e.g {A,B,C,D}\n",
    "     In computing, it is a set of integers. \n",
    "     \n",
    "Tuple: A tuple is sometimes called a list or an array, should be finite in length, it has unlimted elements.\n",
    "       The elements do have a order and repetition is allowed ie same element more then once.\n",
    "       Elements dont all have to come from the same set but generally do.\n",
    "       Usually you write a tuple with round brackets and elements are seperarted by commas. eg. (A,B,B,D).\n",
    "       The element of the left hand side is the first element in the tuple.\n",
    "       In computing, it is a list.\n",
    "       \n",
    " Map: A map is also called a function as in mathmatics, inputs mapped to outputs.\n",
    "      A map is a set itself {} and everyting in the set is a pair tuple, a list containing two elements.\n",
    "      Across the hole set of the map, the left hand tuple element can only appear once.\n",
    "      The right hand tuple element can appear more then once.\n",
    "      \n",
    "      \n",
    " Bijection: In a map, every element on the right is pointed to one element on the left. \n",
    "            Therefore, the map is reversible and clear.\n",
    "      \n",
    "       \n",
    " Graph: G = (V,E) it is a two tuble because E is the edges and V is the vertices.\n",
    "        V is the set of nodes e.g {1,2,3,4}\n",
    "        E is an edge set represented by a V pair subset e.g {1,2}, there is no order.\n",
    "       \n",
    "       \n",
    " Isomorphism: When the two graphs have the exact same structure, \n",
    " G1 = (V1,E1) = G2 = (V2,E2)\n",
    " The way we prove that graphs are isomorphic, is to look for a bijection between the vertext set V1 and \n",
    " vertext set V2. \n",
    " Draw arrows from the nodes in G1 to the nodes in G2, one node on the left must go to only one node on the right and vice versa.\n",
    " The challange is to try and draw lines between the nodes in G1 to the nodes in G2.\n",
    " Also, you can only have an edge on the right between nodes that have an edge between them on the left.\n",
    " You cant have an edge on the right if there is no edge on the left.\n",
    " i.e.Nodes connected by edges must go to nodes connected by edges.\n",
    " Nodes not connected by edges must go nodes not connected by edges.\n",
    "       \n",
    "       \n"
   ]
  },
  {
   "cell_type": "markdown",
   "id": "0b625769",
   "metadata": {},
   "source": [
    "Is the graph on the left isomorphic to the graph on the right?\n",
    "Start with finding a bijection of one vertex on the right to another vertext on the left.\n",
    "Name one vertex on the right to be the first vertex and something to map to the right. It could be many possiblities.\n",
    "Move on to the second vertex on the left and mapped to anonther vertex to the right. Less possibilities.\n",
    "Given n vertices there are n factorial possibe maps.\n",
    "Possibilites can be reduced given that vertex on the right must have same number of edges as the vertex on the left.\n",
    "ie degree 3 vertex on the left must be mapped to degree 3 vertex on the right.(Edges are preserved).\n",
    "Also check if both graphs have the same number of nodes or edges.\n",
    "We want to try not to do perform the worst case calculation e.i n factorial where n is the number of nodes.Therefor,the isomorophic problem is that, in order to find out if two graphs are the same, you may have to consider n factorial maps  which is a mammoth calculation!\n",
    "\n",
    "Shortcuts is to consider number of vertices, number of edges and number of degress. One iterestig point about the graph isomorphic problem is it can represented as a set of binary strings.\n",
    "\n",
    "\n",
    "### Adjacency Matrix\n",
    "\n",
    "You can represent a graph in an adjacency matrix.\n",
    "The adjacency matrix is a matrix mapping nodes in one graph to the nodes in another graph.\n",
    "The nodes are listed both horizontally and vertically in the matrix.\n",
    "Put a zero or one in each entry of the matrix.(1 means its connected and 0 means its not).\n",
    "All of the structure of the graph is contained in the matrix.\n",
    "No node can be connected to itself. \n",
    "In a simple graph, you always have zeros down the main diagonal. \n",
    "The rows and cloumns are inter changable.\n",
    "If you turn the rows into columns you get the same matrix ie its stymetric.\n",
    "\n",
    "\n"
   ]
  },
  {
   "cell_type": "markdown",
   "id": "58ddb04f",
   "metadata": {},
   "source": [
    "###  Permutations\n"
   ]
  },
  {
   "cell_type": "code",
   "execution_count": 3,
   "id": "79e45cce",
   "metadata": {},
   "outputs": [],
   "source": [
    "L = [1,2,3,4,5] #list of five distinct elements"
   ]
  },
  {
   "cell_type": "code",
   "execution_count": 7,
   "id": "7b512688",
   "metadata": {},
   "outputs": [
    {
     "data": {
      "text/plain": [
       "120"
      ]
     },
     "execution_count": 7,
     "metadata": {},
     "output_type": "execute_result"
    }
   ],
   "source": [
    "M = [2,1,3,4,5] # not the same list \n",
    "# permutation is getting from L to M\n",
    "#all elements are there but in differnt order\n",
    "#you can try brute force \n",
    "#clever sorting avoid generating permutations\n",
    "#permutations are apart of sorting algorithms.\n",
    "#The number of permutations of 5 elements is\n",
    "5*4*3*2*1\n"
   ]
  },
  {
   "cell_type": "code",
   "execution_count": 8,
   "id": "9c1fb7a3",
   "metadata": {},
   "outputs": [
    {
     "data": {
      "text/plain": [
       "720"
      ]
     },
     "execution_count": 8,
     "metadata": {},
     "output_type": "execute_result"
    }
   ],
   "source": [
    "#The number of permutations of 6 elements is\n",
    "6*5*4*3*2*1 "
   ]
  },
  {
   "cell_type": "code",
   "execution_count": 10,
   "id": "1acae193",
   "metadata": {},
   "outputs": [
    {
     "data": {
      "text/plain": [
       "93326215443944152681699238856266700490715968264381621468592963895217599993229915608941463976156518286253697920827223758251185210916864000000000000000000000000"
      ]
     },
     "execution_count": 10,
     "metadata": {},
     "output_type": "execute_result"
    }
   ],
   "source": [
    "#has a brutal growth rate as the length of the list grows\n",
    "import math\n",
    "math.factorial(100)"
   ]
  },
  {
   "cell_type": "code",
   "execution_count": null,
   "id": "dccab8f3",
   "metadata": {},
   "outputs": [],
   "source": [
    "#algoritm to get all the permutations of a number of elements\n",
    "#Avoid storing all permutations in mememory at the same time\n",
    "#link to heaps algorithm wiki\n",
    "#intertools which deal with iterators\n",
    "#permutations = permutation"
   ]
  },
  {
   "cell_type": "code",
   "execution_count": 13,
   "id": "01af4872",
   "metadata": {},
   "outputs": [
    {
     "name": "stdout",
     "output_type": "stream",
     "text": [
      "(1, 2, 3, 4)\n",
      "(1, 2, 4, 3)\n",
      "(1, 3, 2, 4)\n",
      "(1, 3, 4, 2)\n",
      "(1, 4, 2, 3)\n",
      "(1, 4, 3, 2)\n",
      "(2, 1, 3, 4)\n",
      "(2, 1, 4, 3)\n",
      "(2, 3, 1, 4)\n",
      "(2, 3, 4, 1)\n",
      "(2, 4, 1, 3)\n",
      "(2, 4, 3, 1)\n",
      "(3, 1, 2, 4)\n",
      "(3, 1, 4, 2)\n",
      "(3, 2, 1, 4)\n",
      "(3, 2, 4, 1)\n",
      "(3, 4, 1, 2)\n",
      "(3, 4, 2, 1)\n",
      "(4, 1, 2, 3)\n",
      "(4, 1, 3, 2)\n",
      "(4, 2, 1, 3)\n",
      "(4, 2, 3, 1)\n",
      "(4, 3, 1, 2)\n",
      "(4, 3, 2, 1)\n"
     ]
    }
   ],
   "source": [
    "#from python standard library\n",
    "import itertools as it\n",
    "#all the permuations of 1,2,3,4\n",
    "#gets instantiated as an object\n",
    "for p in it.permutations([1,2,3,4]):\n",
    "    print(p)"
   ]
  },
  {
   "cell_type": "code",
   "execution_count": 16,
   "id": "2251e8e2",
   "metadata": {},
   "outputs": [
    {
     "name": "stdout",
     "output_type": "stream",
     "text": [
      "(1, 2, 3, 4)\n"
     ]
    }
   ],
   "source": [
    "#from python standard library\n",
    "#O(n!)\n",
    "import itertools as it\n",
    "#all the permuations of 1,2,3,4\n",
    "#gets instantiated as an object\n",
    "for p in it.permutations([2,1,4,3]):\n",
    "    if p[0] <= p[1] and p[1] <= p[2]  and p[2] <= p[3]:\n",
    "        print(p)"
   ]
  },
  {
   "cell_type": "code",
   "execution_count": null,
   "id": "64fdf420",
   "metadata": {},
   "outputs": [],
   "source": [
    "#Algorithm to brute force the graph isomorphism problem\n",
    "\n",
    "\n"
   ]
  }
 ],
 "metadata": {
  "kernelspec": {
   "display_name": "Python 3 (ipykernel)",
   "language": "python",
   "name": "python3"
  },
  "language_info": {
   "codemirror_mode": {
    "name": "ipython",
    "version": 3
   },
   "file_extension": ".py",
   "mimetype": "text/x-python",
   "name": "python",
   "nbconvert_exporter": "python",
   "pygments_lexer": "ipython3",
   "version": "3.9.7"
  }
 },
 "nbformat": 4,
 "nbformat_minor": 5
}
