{
 "cells": [
  {
   "cell_type": "markdown",
   "id": "e4f3e0f8",
   "metadata": {},
   "source": [
    "## HeapSort"
   ]
  },
  {
   "cell_type": "markdown",
   "id": "4f442a16",
   "metadata": {},
   "source": [
    "### Introduction "
   ]
  },
  {
   "cell_type": "markdown",
   "id": "15237d7c",
   "metadata": {},
   "source": [
    "Heap sort is a comparison-based sorting technique based on Binary Heap data structure.\n",
    "<ul>\n",
    "    <li> You can implement as a binary tree or an array</li>\n",
    "    <li> A binary tree has parents and children </li>\n",
    "    <li> Each parent at most has two children </li>\n",
    "    <li> The top of the tree is called the root node </li>\n",
    "    <li> Start at the root node and fill in heap top to bottom left to right </li>\n",
    "    <li> The bottom node doesnt have to have two children </li>\n",
    "    <li> There are two basic types of heap called max heap and min heap </li>\n",
    "</ul>"
   ]
  },
  {
   "cell_type": "markdown",
   "id": "4bb2ca4f",
   "metadata": {},
   "source": [
    "### Max Heap / Min Heap\n",
    "\n"
   ]
  },
  {
   "cell_type": "markdown",
   "id": "08a04b1d",
   "metadata": {},
   "source": [
    "In a max heap, the parent is always greater than or equal to the child. P >= C\n",
    "<br>\n",
    "In a min heap the parent is always less than or equal to the child. P <= C\n",
    "<br>\n",
    "The max heap always has the highest at the root node.\n",
    "<br>\n",
    "The min heap always has the lowest at the root node."
   ]
  },
  {
   "cell_type": "markdown",
   "id": "7a5aa488",
   "metadata": {},
   "source": [
    "### Heapify"
   ]
  },
  {
   "cell_type": "markdown",
   "id": "935f0f89",
   "metadata": {},
   "source": [
    "Heapify is a term used to ensure that the heap adheres to the min or max properties.\n",
    "\n",
    "A binary tree has a fixed structure where you can work out the parent of a child or the child of a parent.\n",
    "\n",
    "A binary tree can be represented in a python list.\n",
    "\n",
    "Start at the root node and fill in the list left to right and top to bottom.\n",
    "\n",
    "e----add in picture \n",
    "\n",
    "To work out the child of a parent or a parent of a child, you can use the following formulas assuming the zeroth element in the array is used.\n",
    "Given P is the parent and C is the child\n",
    "\n",
    "To find chidren of a parent.\n",
    "\n",
    "left C  =  2(P) + 1\n",
    "right C = 2(P) + 2\n",
    "\n",
    "\n",
    "To find the parent of a child.\n",
    "P = (C-1)/2\n",
    "\n",
    "\n",
    "\n",
    "\n",
    "\n",
    "\n"
   ]
  },
  {
   "cell_type": "markdown",
   "id": "8affcf2a",
   "metadata": {},
   "source": [
    "### Heap Addition"
   ]
  },
  {
   "cell_type": "markdown",
   "id": "f7c47e58",
   "metadata": {},
   "source": [
    "In a heap, new values are added to the end of the tree."
   ]
  },
  {
   "cell_type": "markdown",
   "id": "eefd8181",
   "metadata": {},
   "source": [
    "### Heap Deletion"
   ]
  },
  {
   "cell_type": "markdown",
   "id": "d6f8992a",
   "metadata": {},
   "source": [
    "Typically when a deleting from a heap,you delete the root node and replace the root node with last node in tree.\n"
   ]
  },
  {
   "cell_type": "markdown",
   "id": "383cfe70",
   "metadata": {},
   "source": [
    "### Heap Sort "
   ]
  },
  {
   "cell_type": "markdown",
   "id": "eee61be2",
   "metadata": {},
   "source": [
    "Heap sort involves continously deleting the root node (the highest value) until the heap is empty, saving each root value outside the heap, each time replacing the root node with the last node in the tree and heapifying the heap so that the heap is in a max heap state.\n",
    "\n"
   ]
  },
  {
   "cell_type": "markdown",
   "id": "f17b2fb2",
   "metadata": {},
   "source": [
    "### Performance\n",
    "Heap sort has time complexity factor of big O n log n"
   ]
  },
  {
   "cell_type": "markdown",
   "id": "3732f99b",
   "metadata": {},
   "source": [
    "### Implementing Heap Sort in  Python"
   ]
  },
  {
   "cell_type": "markdown",
   "id": "aedffebc",
   "metadata": {},
   "source": [
    "#### HeapSort - wikipedia pseudo code converted to Python"
   ]
  },
  {
   "cell_type": "markdown",
   "id": "31c56bde",
   "metadata": {},
   "source": [
    "wikipedia https://en.wikipedia.org/wiki/Heapsort"
   ]
  },
  {
   "cell_type": "code",
   "execution_count": 1,
   "id": "3e2f05fd",
   "metadata": {},
   "outputs": [],
   "source": [
    "# This function returns the parent of a child node\n",
    "def iParent(i):\n",
    "    return (i-1)//2"
   ]
  },
  {
   "cell_type": "code",
   "execution_count": 2,
   "id": "41e08666",
   "metadata": {},
   "outputs": [],
   "source": [
    "# This function returns the right child of a parent node\n",
    "def iRightChild(i): # Not used\n",
    "    return (2 *i ) + 2"
   ]
  },
  {
   "cell_type": "code",
   "execution_count": 3,
   "id": "28be7e1d",
   "metadata": {},
   "outputs": [],
   "source": [
    "# This function returns the left child of a parent node\n",
    "def iLeftChild(i): \n",
    "    return (2 * i) + 1"
   ]
  },
  {
   "cell_type": "code",
   "execution_count": 4,
   "id": "0ffc6307",
   "metadata": {},
   "outputs": [],
   "source": [
    "# This function iterates down through the list and restores it to a max heap\n",
    "# Returns the number of comparisons\n",
    "def siftDown(L,parent, end):\n",
    "    c = 0 #count number of comparisons\n",
    "          \n",
    "    #print(\"----------Enter siftDown function\")\n",
    "    while iLeftChild(parent) <= end: \n",
    "        lchild = iLeftChild(parent)\n",
    "        rchild = iRightChild(parent)\n",
    "        swap=parent\n",
    "        if L[swap] < L[lchild]:\n",
    "            swap=lchild\n",
    "            c=c+1\n",
    "        if rchild <= end and L[swap] < L[rchild]:\n",
    "            swap=rchild\n",
    "            c=c+1\n",
    "        # check whats in swap.\n",
    "        #if it hasnt changed return the parent greater then the children\n",
    "        if swap == parent:\n",
    "            return c\n",
    "        else:\n",
    "            #print(\"----------Swapping, Parent index=\",parent,\"Parent value=\", L[parent],\"child index=\", swap, \"Child Value=\",L[swap])\n",
    "            L[parent], L[swap] =  L[swap], L[parent]\n",
    "            parent=swap\n",
    "    #print(\"----------Exit siftDown function\")\n",
    "    return c #return count of comparisons"
   ]
  },
  {
   "cell_type": "code",
   "execution_count": 5,
   "id": "aaddd58f",
   "metadata": {},
   "outputs": [],
   "source": [
    "# This is the main heapsort function\n",
    "# parqmeters\n",
    "# - a contains the list to be sorted\n",
    "# - count contains the size of the list\n",
    "def heapsort(L, lenList):\n",
    "    #count number of comparisons\n",
    "    c = 0\n",
    " # First step is to heapify the list\n",
    " # re-arrange the list into a Max heap\n",
    " # where all parent values are greater then their children values\n",
    " # and the root node contains the highest value\n",
    " #add code to count comparisons     \n",
    "    lenList = len(L)\n",
    "    parent = iParent(lenList-1) # find the parent of the last node.\n",
    "                           # The last element in a 0-based array is at index len(string)-1;\n",
    "                           #start has the index of the parent of the last value in the tree\n",
    "    #while parent >= 0:  \n",
    "    for p in range (parent, -1 , -1): \n",
    "    # Beging with the parent of the last node \n",
    "    #go through all the parent nodes starting with the parent node of the last node and make sure\n",
    "    #the value of each parent is greater then its children.\n",
    "        c=c+siftDown(L, p, lenList-1) ; \n",
    "   \n",
    "    end = lenList - 1   #The last element in a 0-based array is at index (size of array -1);\n",
    "    #Loop through list until all items have been removed from the heap\")\n",
    "    #1.Each time swap the root value and the last node value in tree\")\n",
    "    #2.reduce the heap size (end) by 1,\")\n",
    "    #3.restore max heap structure\")\n",
    "    # repeat steps 1,2,3\")\n",
    "    #invariant is that everything up to end is in max heap and everything after end is increasing sorted order.\n",
    "    #while end > 0: \n",
    "    for e in range (end,0,-1):      #When end is equal to 0 the list has been fully processed\n",
    "        L[0], L[e] =  L[e], L[0]    #Take the root node containing the highest value and swap it with the last index value\n",
    "        c=c+siftDown(L, 0, e-1)         #The swap ruined the heap property, so restore max heap\n",
    "    return c"
   ]
  },
  {
   "cell_type": "code",
   "execution_count": 6,
   "id": "f411513e",
   "metadata": {},
   "outputs": [
    {
     "data": {
      "text/plain": [
       "[19, 100, 36, 25, 3, 17, 7, 1, 2]"
      ]
     },
     "execution_count": 6,
     "metadata": {},
     "output_type": "execute_result"
    }
   ],
   "source": [
    "#L = [5,4,3,6,45,21]\n",
    "L = [19,100,36,25,3,17,7,1,2]\n",
    "L"
   ]
  },
  {
   "cell_type": "code",
   "execution_count": 7,
   "id": "a9ceaa6b",
   "metadata": {},
   "outputs": [
    {
     "data": {
      "text/plain": [
       "[19, 100, 36, 25, 3, 17, 7, 1, 2]"
      ]
     },
     "execution_count": 7,
     "metadata": {},
     "output_type": "execute_result"
    }
   ],
   "source": [
    "L"
   ]
  },
  {
   "cell_type": "code",
   "execution_count": 8,
   "id": "ea21d538",
   "metadata": {},
   "outputs": [],
   "source": [
    "L = [5,4,3,6,45,21,66,100,33,56,77,1]"
   ]
  },
  {
   "cell_type": "code",
   "execution_count": 9,
   "id": "9ec32fd0",
   "metadata": {},
   "outputs": [
    {
     "data": {
      "text/plain": [
       "[1, 3, 4, 5, 6, 21, 33, 45, 56, 66, 77, 100]"
      ]
     },
     "execution_count": 9,
     "metadata": {},
     "output_type": "execute_result"
    }
   ],
   "source": [
    "heapsort(L, len(L))\n",
    "L\n"
   ]
  },
  {
   "cell_type": "code",
   "execution_count": 10,
   "id": "98f73509",
   "metadata": {},
   "outputs": [
    {
     "data": {
      "text/plain": [
       "[1, 3, 4, 5, 6, 21, 33, 45, 56, 66, 77, 100]"
      ]
     },
     "execution_count": 10,
     "metadata": {},
     "output_type": "execute_result"
    }
   ],
   "source": [
    "L"
   ]
  },
  {
   "cell_type": "markdown",
   "id": "9fec2dca",
   "metadata": {},
   "source": [
    "## Comparing algorithims"
   ]
  },
  {
   "cell_type": "markdown",
   "id": "597190fa",
   "metadata": {},
   "source": [
    "### Bubble Sort"
   ]
  },
  {
   "cell_type": "code",
   "execution_count": 11,
   "id": "a95eb7d0",
   "metadata": {},
   "outputs": [],
   "source": [
    "#create a function\n",
    "def bubble_sort(L):\n",
    "\n",
    "    #bubble every biggest element up\n",
    "    no_comp = 0\n",
    "\n",
    "    for j in range(len(L) - 1):\n",
    "        swapped = False\n",
    "        for i in range(len(L) - 1 - j):\n",
    "            if L[i] > L[i+1]:\n",
    "                L[i],L[i+1] = L[i+1],L[i]\n",
    "                swapped = True\n",
    "            no_comp = no_comp + 1\n",
    "        if not swapped:\n",
    "            break\n",
    "    return  no_comp"
   ]
  },
  {
   "cell_type": "markdown",
   "id": "7ec38275",
   "metadata": {},
   "source": [
    "### Bubble sort and heap sort comparison counts\n"
   ]
  },
  {
   "cell_type": "code",
   "execution_count": 12,
   "id": "33745894",
   "metadata": {},
   "outputs": [
    {
     "name": "stdout",
     "output_type": "stream",
     "text": [
      "The list is [19, 100, 36, 25, 3, 17, 7, 1, 2]\n",
      "The sorted list is [1, 2, 3, 7, 17, 19, 25, 36, 100]\n",
      "The number of comparisons in bubble sort =  36\n",
      "The number of comparisons in heap sort =  25\n"
     ]
    }
   ],
   "source": [
    "L = [19,100,36,25,3,17,7,1,2]\n",
    "print(\"The list is\", L)\n",
    "b = bubble_sort(L)\n",
    "h = heapsort(L, len(L))\n",
    "print(\"The sorted list is\", L)\n",
    "print(\"The number of comparisons in bubble sort = \", b)\n",
    "print(\"The number of comparisons in heap sort = \", h)\n",
    "\n"
   ]
  },
  {
   "cell_type": "code",
   "execution_count": 13,
   "id": "2713a04e",
   "metadata": {},
   "outputs": [
    {
     "name": "stdout",
     "output_type": "stream",
     "text": [
      "The list is [6, 20, 4, 25, 3, 17, 6, 1, 2, 2]\n",
      "The sorted list is [1, 2, 2, 3, 4, 6, 6, 17, 20, 25]\n",
      "The number of comparisons in bubble sort =  44\n",
      "The number of comparisons in heap sort =  27\n"
     ]
    }
   ],
   "source": [
    "L = [6,20,4,25,3,17,6,1,2,2]\n",
    "print(\"The list is\", L)\n",
    "b = bubble_sort(L)\n",
    "h = heapsort(L, len(L))\n",
    "print(\"The sorted list is\", L)\n",
    "print(\"The number of comparisons in bubble sort = \", b)\n",
    "print(\"The number of comparisons in heap sort = \", h)\n"
   ]
  },
  {
   "cell_type": "markdown",
   "id": "65e77f04",
   "metadata": {},
   "source": [
    "### More comparison between bubble sort and heap sort\n",
    "\n",
    "Compare bubble sort and heap with permetations of data.\n"
   ]
  },
  {
   "cell_type": "code",
   "execution_count": 15,
   "id": "b4c2c313",
   "metadata": {},
   "outputs": [
    {
     "name": "stdout",
     "output_type": "stream",
     "text": [
      "(0, 1, 2, 3, 4)\t4\t8\n",
      "(0, 1, 2, 4, 3)\t7\t9\n",
      "(0, 1, 3, 2, 4)\t7\t7\n",
      "(0, 1, 3, 4, 2)\t9\t8\n",
      "(0, 1, 4, 2, 3)\t7\t8\n",
      "(0, 1, 4, 3, 2)\t9\t6\n",
      "(0, 2, 1, 3, 4)\t7\t6\n",
      "(0, 2, 1, 4, 3)\t7\t7\n",
      "(0, 2, 3, 1, 4)\t9\t8\n",
      "(0, 2, 3, 4, 1)\t10\t6\n",
      "(0, 2, 4, 1, 3)\t9\t6\n",
      "(0, 2, 4, 3, 1)\t10\t7\n",
      "(0, 3, 1, 2, 4)\t7\t7\n",
      "(0, 3, 1, 4, 2)\t9\t5\n",
      "(0, 3, 2, 1, 4)\t9\t9\n",
      "(0, 3, 2, 4, 1)\t10\t7\n",
      "(0, 3, 4, 1, 2)\t9\t5\n",
      "(0, 3, 4, 2, 1)\t10\t6\n",
      "(0, 4, 1, 2, 3)\t7\t6\n",
      "(0, 4, 1, 3, 2)\t9\t4\n",
      "(0, 4, 2, 1, 3)\t9\t8\n",
      "(0, 4, 2, 3, 1)\t10\t6\n",
      "(0, 4, 3, 1, 2)\t9\t7\n",
      "(0, 4, 3, 2, 1)\t10\t5\n",
      "(1, 0, 2, 3, 4)\t7\t9\n",
      "(1, 0, 2, 4, 3)\t7\t7\n",
      "(1, 0, 3, 2, 4)\t7\t8\n",
      "(1, 0, 3, 4, 2)\t9\t6\n",
      "(1, 0, 4, 2, 3)\t7\t7\n",
      "(1, 0, 4, 3, 2)\t9\t5\n",
      "(1, 2, 0, 3, 4)\t9\t7\n",
      "(1, 2, 0, 4, 3)\t9\t8\n",
      "(1, 2, 3, 0, 4)\t10\t6\n",
      "(1, 2, 3, 4, 0)\t10\t7\n",
      "(1, 2, 4, 0, 3)\t10\t5\n",
      "(1, 2, 4, 3, 0)\t10\t6\n",
      "(1, 3, 0, 2, 4)\t9\t8\n",
      "(1, 3, 0, 4, 2)\t9\t6\n",
      "(1, 3, 2, 0, 4)\t10\t7\n",
      "(1, 3, 2, 4, 0)\t10\t8\n",
      "(1, 3, 4, 0, 2)\t10\t4\n",
      "(1, 3, 4, 2, 0)\t10\t5\n",
      "(1, 4, 0, 2, 3)\t9\t7\n",
      "(1, 4, 0, 3, 2)\t9\t5\n",
      "(1, 4, 2, 0, 3)\t10\t6\n",
      "(1, 4, 2, 3, 0)\t10\t7\n",
      "(1, 4, 3, 0, 2)\t10\t5\n",
      "(1, 4, 3, 2, 0)\t10\t6\n",
      "(2, 0, 1, 3, 4)\t7\t7\n",
      "(2, 0, 1, 4, 3)\t7\t5\n",
      "(2, 0, 3, 1, 4)\t9\t7\n",
      "(2, 0, 3, 4, 1)\t10\t5\n",
      "(2, 0, 4, 1, 3)\t9\t9\n",
      "(2, 0, 4, 3, 1)\t10\t7\n",
      "(2, 1, 0, 3, 4)\t9\t8\n",
      "(2, 1, 0, 4, 3)\t9\t6\n",
      "(2, 1, 3, 0, 4)\t10\t5\n",
      "(2, 1, 3, 4, 0)\t10\t6\n",
      "(2, 1, 4, 0, 3)\t10\t7\n",
      "(2, 1, 4, 3, 0)\t10\t8\n",
      "(2, 3, 0, 1, 4)\t9\t6\n",
      "(2, 3, 0, 4, 1)\t10\t7\n",
      "(2, 3, 1, 0, 4)\t10\t5\n",
      "(2, 3, 1, 4, 0)\t10\t6\n",
      "(2, 3, 4, 0, 1)\t10\t6\n",
      "(2, 3, 4, 1, 0)\t10\t7\n",
      "(2, 4, 0, 1, 3)\t9\t5\n",
      "(2, 4, 0, 3, 1)\t10\t6\n",
      "(2, 4, 1, 0, 3)\t10\t4\n",
      "(2, 4, 1, 3, 0)\t10\t5\n",
      "(2, 4, 3, 0, 1)\t10\t4\n",
      "(2, 4, 3, 1, 0)\t10\t5\n",
      "(3, 0, 1, 2, 4)\t7\t6\n",
      "(3, 0, 1, 4, 2)\t9\t4\n",
      "(3, 0, 2, 1, 4)\t9\t8\n",
      "(3, 0, 2, 4, 1)\t10\t6\n",
      "(3, 0, 4, 1, 2)\t9\t7\n",
      "(3, 0, 4, 2, 1)\t10\t5\n",
      "(3, 1, 0, 2, 4)\t9\t7\n",
      "(3, 1, 0, 4, 2)\t9\t5\n",
      "(3, 1, 2, 0, 4)\t10\t6\n",
      "(3, 1, 2, 4, 0)\t10\t7\n",
      "(3, 1, 4, 0, 2)\t10\t5\n",
      "(3, 1, 4, 2, 0)\t10\t6\n",
      "(3, 2, 0, 1, 4)\t9\t5\n",
      "(3, 2, 0, 4, 1)\t10\t6\n",
      "(3, 2, 1, 0, 4)\t10\t4\n",
      "(3, 2, 1, 4, 0)\t10\t5\n",
      "(3, 2, 4, 0, 1)\t10\t4\n",
      "(3, 2, 4, 1, 0)\t10\t5\n",
      "(3, 4, 0, 1, 2)\t9\t4\n",
      "(3, 4, 0, 2, 1)\t10\t5\n",
      "(3, 4, 1, 0, 2)\t10\t3\n",
      "(3, 4, 1, 2, 0)\t10\t4\n",
      "(3, 4, 2, 0, 1)\t10\t5\n",
      "(3, 4, 2, 1, 0)\t10\t6\n",
      "(4, 0, 1, 2, 3)\t7\t5\n",
      "(4, 0, 1, 3, 2)\t9\t3\n",
      "(4, 0, 2, 1, 3)\t9\t7\n",
      "(4, 0, 2, 3, 1)\t10\t5\n",
      "(4, 0, 3, 1, 2)\t9\t6\n",
      "(4, 0, 3, 2, 1)\t10\t4\n",
      "(4, 1, 0, 2, 3)\t9\t6\n",
      "(4, 1, 0, 3, 2)\t9\t4\n",
      "(4, 1, 2, 0, 3)\t10\t5\n",
      "(4, 1, 2, 3, 0)\t10\t6\n",
      "(4, 1, 3, 0, 2)\t10\t4\n",
      "(4, 1, 3, 2, 0)\t10\t5\n",
      "(4, 2, 0, 1, 3)\t9\t4\n",
      "(4, 2, 0, 3, 1)\t10\t5\n",
      "(4, 2, 1, 0, 3)\t10\t3\n",
      "(4, 2, 1, 3, 0)\t10\t4\n",
      "(4, 2, 3, 0, 1)\t10\t3\n",
      "(4, 2, 3, 1, 0)\t10\t4\n",
      "(4, 3, 0, 1, 2)\t9\t3\n",
      "(4, 3, 0, 2, 1)\t10\t4\n",
      "(4, 3, 1, 0, 2)\t10\t2\n",
      "(4, 3, 1, 2, 0)\t10\t3\n",
      "(4, 3, 2, 0, 1)\t10\t4\n",
      "(4, 3, 2, 1, 0)\t10\t5\n"
     ]
    }
   ],
   "source": [
    "# generate different permutations of a list to compare heapsort and bubble sort\n",
    "import itertools\n",
    "n=5\n",
    "\n",
    "for perm in itertools.permutations(range(n)):\n",
    "    L=list(perm)\n",
    "    b=bubble_sort(L)\n",
    "    L=list(perm)\n",
    "    h=heapsort(L,len(L))\n",
    "    print(f'{perm}\\t{b}\\t{h}')"
   ]
  },
  {
   "cell_type": "markdown",
   "id": "dc14ced1",
   "metadata": {},
   "source": [
    "### Observations\n",
    "\n",
    "When the numbers are in semi sorted order, bubble sort works more efficiently  e.g (0,2,4,3).Here bubble sort comparisons is 7 and Heap sort is 9.\n",
    "When the numbers are mostly unsorted, Heap sort works more efficiently e.g (2, 4, 3, 0, 1) bubble sort comparisons is 10 anf Heap Sort is 4.\n",
    "In conclusion, when the numbers are more unsorted, Heap Sort is more efficient at sorting in regard to time.\n"
   ]
  },
  {
   "cell_type": "markdown",
   "id": "a450c3f9",
   "metadata": {},
   "source": [
    "### Underdstaning Big O and HeapSort\n",
    "Heap Sort is Big n log n. In order to understand this, we need to first understand Log n.\n"
   ]
  },
  {
   "cell_type": "markdown",
   "id": "66647866",
   "metadata": {},
   "source": [
    "## Graph Theory\n",
    "### What is a graph\n",
    "\n",
    "Graphs are universal. Almost anything can be represented in a graph. Graphs can be used to represent relationships such as connecting cities (nodes) and highways (edges) and working out the fastest route between them. \n",
    "<br>\n",
    "A graph is a set of points with lines connecting some of the points\n",
    "<br>The points are called nodes or vertices\n",
    "The lines are called edges\n",
    "<br>\n",
    "--------------picture\n",
    "<br>\n",
    "The number of edges at a particular node is the <b>degree</b> of that node\n",
    "<br>\n",
    "No more than one edge is allowed between two nodes\n",
    "<br>\n",
    "In a graph G that contains nodes i and j, the pair (i,j) represents the edges that connects i and j\n",
    "The order of i and j does not matter in a undirected graph\n",
    "<br>\n",
    "You can represent a graph using the following notation\n",
    "if V is a set containing nodes(G) and edges (E).\n",
    "<br>\n",
    "we can say G = (V,E)\n",
    "<br>\n",
    "There are 2 types of graph: undirected and directed.\n",
    "<br>\n",
    "A <b>path</b> in a graph is a sequences of nodes connected by edges.<br> \n",
    "A <b>simple path</b>is a path that doesn't repeat any nodes.\n",
    "A graph is <b>connected</b> if two nodes have a path between them.<br>\n",
    "A path is a <b>cycle</b> if it starts and ends in the same node.\n",
    "A <b>simple cycle</b> is one that contains at least 3 nodes and repeats only the first and last nodes.\n",
    "<br>\n",
    "A graph is a <b>tree</b> if it is connected and has no simple cycles.\n",
    "A tree may contain a designated root node. The nodes below the root are call leaves."
   ]
  },
  {
   "cell_type": "markdown",
   "id": "634b45be",
   "metadata": {},
   "source": [
    "## Graph Theory and Heap Sort\n",
    "You can represent the heap sort using graph theory."
   ]
  },
  {
   "cell_type": "code",
   "execution_count": null,
   "id": "5567ea24",
   "metadata": {},
   "outputs": [],
   "source": []
  }
 ],
 "metadata": {
  "kernelspec": {
   "display_name": "Python 3 (ipykernel)",
   "language": "python",
   "name": "python3"
  },
  "language_info": {
   "codemirror_mode": {
    "name": "ipython",
    "version": 3
   },
   "file_extension": ".py",
   "mimetype": "text/x-python",
   "name": "python",
   "nbconvert_exporter": "python",
   "pygments_lexer": "ipython3",
   "version": "3.9.7"
  }
 },
 "nbformat": 4,
 "nbformat_minor": 5
}
