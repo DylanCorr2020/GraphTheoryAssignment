{
 "cells": [
  {
   "cell_type": "markdown",
   "id": "e4f3e0f8",
   "metadata": {},
   "source": [
    "## HeapSort"
   ]
  },
  {
   "cell_type": "markdown",
   "id": "4f442a16",
   "metadata": {},
   "source": [
    "### Introduction "
   ]
  },
  {
   "cell_type": "markdown",
   "id": "15237d7c",
   "metadata": {},
   "source": [
    "Heap sort is a comparison-based sorting technique based on Binary Heap data structure.\n",
    "<ul>\n",
    "    <li> You can implement as a binary tree or an array</li>\n",
    "    <li> A binary tree has parents and children </li>\n",
    "    <li> Each parent at most has two children </li>\n",
    "    <li> The top of the tree is called the root node </li>\n",
    "    <li> Start at the root node and fill in heap top to bottom left to right </li>\n",
    "    <li> At the bottom a node doesnt have to have two children </li>\n",
    "    <li> There are two basic types of heap called max heap and min heap </li>\n",
    "</ul>"
   ]
  },
  {
   "cell_type": "markdown",
   "id": "4bb2ca4f",
   "metadata": {},
   "source": [
    "### Max Heap / Min Heap\n",
    "\n"
   ]
  },
  {
   "cell_type": "markdown",
   "id": "08a04b1d",
   "metadata": {},
   "source": [
    "In a max heap the parent always greater than or equal to the child. P >= C\n",
    "In a min heap the parent always less than or equal to the child. P <= C\n",
    "The max heap always has the highest at the root node.\n",
    "The min heap always has the lowest at the root node."
   ]
  },
  {
   "cell_type": "markdown",
   "id": "7a5aa488",
   "metadata": {},
   "source": [
    "### Heapify"
   ]
  },
  {
   "cell_type": "markdown",
   "id": "935f0f89",
   "metadata": {},
   "source": [
    "Heapify is a term used to ensure that the heap adheres to the min or max properties.\n",
    "\n",
    "A binary tree has a fixed structure where you can work out the parent of a child or the child of a parent.\n",
    "\n",
    "A binary tree can be represented in a python list.\n",
    "\n",
    "Start at the root node and fill in the list left to right and top to bottom.\n",
    "\n",
    "e----add in picture \n",
    "\n",
    "To work out the child of a parent or a parent of a child, you can use the following formulas assuming the zeroth element in the array is used.\n",
    "Given P is the parent and C is the child\n",
    "\n",
    "To find chidren of a parent.\n",
    "\n",
    "left C  =  2(P) + 1\n",
    "right C = 2(P) + 2\n",
    "\n",
    "\n",
    "To find the parent of a child.\n",
    "P = (C-1)/2\n",
    "\n",
    "\n",
    "\n",
    "\n",
    "\n",
    "\n"
   ]
  },
  {
   "cell_type": "markdown",
   "id": "8affcf2a",
   "metadata": {},
   "source": [
    "### Heap Addition"
   ]
  },
  {
   "cell_type": "markdown",
   "id": "f7c47e58",
   "metadata": {},
   "source": [
    "In a heap, new values are added to the end of the tree."
   ]
  },
  {
   "cell_type": "markdown",
   "id": "eefd8181",
   "metadata": {},
   "source": [
    "### Heap Deletion"
   ]
  },
  {
   "cell_type": "markdown",
   "id": "d6f8992a",
   "metadata": {},
   "source": [
    "Typically when a deleting from a heap,you delete the root node and replace the root node with last node in tree.\n"
   ]
  },
  {
   "cell_type": "markdown",
   "id": "383cfe70",
   "metadata": {},
   "source": [
    "### Heap Sort "
   ]
  },
  {
   "cell_type": "markdown",
   "id": "eee61be2",
   "metadata": {},
   "source": [
    "Heap sort involves continously deleting the root node (the highest value) until the heap is empty, saving each root value outside the heap, each time replacing the root node with the last node in the tree and heapifying the heap so that the heap is in a max heap state.\n",
    "\n"
   ]
  },
  {
   "cell_type": "markdown",
   "id": "3732f99b",
   "metadata": {},
   "source": [
    "### Implementing Heap Sort in  Python"
   ]
  },
  {
   "cell_type": "markdown",
   "id": "aedffebc",
   "metadata": {},
   "source": [
    "#### HeapSort - wikipedia pseudo code converted to Python"
   ]
  },
  {
   "cell_type": "markdown",
   "id": "31c56bde",
   "metadata": {},
   "source": [
    "wikipedia https://en.wikipedia.org/wiki/Heapsort"
   ]
  },
  {
   "cell_type": "code",
   "execution_count": 2,
   "id": "3e2f05fd",
   "metadata": {},
   "outputs": [],
   "source": [
    "# This function returns the parent of a child node\n",
    "def iParent(i):\n",
    "    return (i-1)//2"
   ]
  },
  {
   "cell_type": "code",
   "execution_count": 3,
   "id": "41e08666",
   "metadata": {},
   "outputs": [],
   "source": [
    "# This function returns the right child of a parent node\n",
    "def iRightChild(i): # Not used\n",
    "    return (2 *i ) + 2"
   ]
  },
  {
   "cell_type": "code",
   "execution_count": 4,
   "id": "28be7e1d",
   "metadata": {},
   "outputs": [],
   "source": [
    "# This function returns the left child of a parent node\n",
    "def iLeftChild(i): \n",
    "    return (2 * i) + 1"
   ]
  },
  {
   "cell_type": "code",
   "execution_count": 6,
   "id": "a6a29072",
   "metadata": {},
   "outputs": [],
   "source": [
    "# This function organises the list so that the list is in a max heap structure starting out\n",
    "# a is the list count the len of list\n",
    "\n",
    "def heapify(a):\n",
    "   \n",
    "    count = len(a)\n",
    "    start=iParent(count-1) # find the parent of the last node.\n",
    "                           # The last element in a 0-based array is at index len(string)-1;\n",
    "                           #start has the index of the parent of the last value in the tree\n",
    "                           \n",
    "    \n",
    "    \n",
    "    while start >= 0:      # Beging with the parent of the last node \n",
    "        \n",
    "        siftDown(a, start,count-1) ; \n",
    "        start=start-1      # go to the next parent node\n",
    "                           # a is the list \n",
    "                           # start parent last node and it looks next parent in the tree\n",
    "                           # end is the index of the last node\n",
    "       \n",
    "    "
   ]
  },
  {
   "cell_type": "code",
   "execution_count": 8,
   "id": "0ffc6307",
   "metadata": {},
   "outputs": [],
   "source": [
    "# This function iterates down through the list and restores it to a max heap\n",
    "def siftDown(a,start, end):\n",
    "    print(\"----------Enter siftDown function\")\n",
    "    parent=start\n",
    "    while iLeftChild(parent) <= end: \n",
    "        lchild = iLeftChild(parent)\n",
    "        rchild = iRightChild(parent)\n",
    "        swap=parent\n",
    "        if a[swap] < a[lchild]:\n",
    "            swap=lchild\n",
    "        if rchild <= end and a[swap] < a[rchild]:\n",
    "            swap=rchild\n",
    "        # check whats in swap.\n",
    "        #if it hasnt changed return the parent greater then the children\n",
    "        if swap == parent:\n",
    "            return\n",
    "        else:\n",
    "            print(\"----------Swapping, Parent index=\",parent,\"Parent value=\", a[parent],\"child index=\", swap, \"Child Value=\",a[swap])\n",
    "            a[parent], a[swap] =  a[swap], a[parent]\n",
    "            parent=swap\n",
    "    print(\"----------Exit siftDown function\")"
   ]
  },
  {
   "cell_type": "code",
   "execution_count": 12,
   "id": "aaddd58f",
   "metadata": {},
   "outputs": [],
   "source": [
    "# This is the main heapsort function\n",
    "# parqmeters\n",
    "# - a contains the list to be sorted\n",
    "# - count contains the size of the list\n",
    "def heapsort(a, count):\n",
    "    heapify(a) # call the heapify function to re-arrange the list into a Max heap\n",
    "                      # where all parent values are greater then their children values\n",
    "                      # and the root node contains the highest value\n",
    "    \n",
    "    print(\"Heapsort. Loop through list until all items have been removed from the heap\")\n",
    "    print(\"Heapsort. 1.swap the root value and the last node value in tree\")\n",
    "    print(\"Heapsort. 2.reduce the heap size by 1,\")\n",
    "    print(\"Heapsort. 3.restore max heap structure\")\n",
    "    print(\"Heapsort. repeat steps 1,2,3\")\n",
    "    end = count - 1   # # The last element in a 0-based array is at index (size of array -1);\n",
    "    while end > 0:    # When end is equal to 0 the list has been fully processed\n",
    "        a[0], a[end] =  a[end], a[0] # Take the root node containing the highest value and swap it with the last index value\n",
    "        end = end -1                 # reduce the heap by one\n",
    "        siftDown(a, 0, end)          # The swap ruined the heap property, so restore max heap"
   ]
  },
  {
   "cell_type": "code",
   "execution_count": 10,
   "id": "f411513e",
   "metadata": {},
   "outputs": [
    {
     "data": {
      "text/plain": [
       "[5, 4, 3, 6, 45, 21]"
      ]
     },
     "execution_count": 10,
     "metadata": {},
     "output_type": "execute_result"
    }
   ],
   "source": [
    "L = [5,4,3,6,45,21]\n",
    "L"
   ]
  },
  {
   "cell_type": "code",
   "execution_count": 13,
   "id": "e5f124d7",
   "metadata": {},
   "outputs": [
    {
     "name": "stdout",
     "output_type": "stream",
     "text": [
      "----------Enter siftDown function\n",
      "----------Swapping, Parent index= 2 Parent value= 3 child index= 5 Child Value= 21\n",
      "----------Exit siftDown function\n",
      "----------Enter siftDown function\n",
      "----------Swapping, Parent index= 1 Parent value= 4 child index= 4 Child Value= 45\n",
      "----------Exit siftDown function\n",
      "----------Enter siftDown function\n",
      "----------Swapping, Parent index= 0 Parent value= 5 child index= 1 Child Value= 45\n",
      "----------Swapping, Parent index= 1 Parent value= 5 child index= 3 Child Value= 6\n",
      "----------Exit siftDown function\n",
      "Heapsort. Loop through list until all items have been removed from the heap\n",
      "Heapsort. 1.swap the root value and the last node value in tree\n",
      "Heapsort. 2.reduce the heap size by 1,\n",
      "Heapsort. 3.restore max heap structure\n",
      "Heapsort. repeat steps 1,2,3\n",
      "----------Enter siftDown function\n",
      "----------Swapping, Parent index= 0 Parent value= 3 child index= 2 Child Value= 21\n",
      "----------Exit siftDown function\n",
      "----------Enter siftDown function\n",
      "----------Swapping, Parent index= 0 Parent value= 4 child index= 1 Child Value= 6\n",
      "----------Swapping, Parent index= 1 Parent value= 4 child index= 3 Child Value= 5\n",
      "----------Exit siftDown function\n",
      "----------Enter siftDown function\n",
      "----------Swapping, Parent index= 0 Parent value= 4 child index= 1 Child Value= 5\n",
      "----------Exit siftDown function\n",
      "----------Enter siftDown function\n",
      "----------Swapping, Parent index= 0 Parent value= 3 child index= 1 Child Value= 4\n",
      "----------Exit siftDown function\n",
      "----------Enter siftDown function\n",
      "----------Exit siftDown function\n"
     ]
    }
   ],
   "source": [
    "heapsort(L, len(L))\n"
   ]
  },
  {
   "cell_type": "code",
   "execution_count": 14,
   "id": "a9ceaa6b",
   "metadata": {},
   "outputs": [
    {
     "data": {
      "text/plain": [
       "[3, 4, 5, 6, 21, 45]"
      ]
     },
     "execution_count": 14,
     "metadata": {},
     "output_type": "execute_result"
    }
   ],
   "source": [
    "L"
   ]
  },
  {
   "cell_type": "code",
   "execution_count": 15,
   "id": "ea21d538",
   "metadata": {},
   "outputs": [],
   "source": [
    "L = [5,4,3,6,45,21,66,100,33,56,77,1]"
   ]
  },
  {
   "cell_type": "code",
   "execution_count": 16,
   "id": "9ec32fd0",
   "metadata": {},
   "outputs": [
    {
     "name": "stdout",
     "output_type": "stream",
     "text": [
      "----------Enter siftDown function\n",
      "----------Enter siftDown function\n",
      "----------Swapping, Parent index= 4 Parent value= 45 child index= 10 Child Value= 77\n",
      "----------Exit siftDown function\n",
      "----------Enter siftDown function\n",
      "----------Swapping, Parent index= 3 Parent value= 6 child index= 7 Child Value= 100\n",
      "----------Exit siftDown function\n",
      "----------Enter siftDown function\n",
      "----------Swapping, Parent index= 2 Parent value= 3 child index= 6 Child Value= 66\n",
      "----------Exit siftDown function\n",
      "----------Enter siftDown function\n",
      "----------Swapping, Parent index= 1 Parent value= 4 child index= 3 Child Value= 100\n",
      "----------Swapping, Parent index= 3 Parent value= 4 child index= 8 Child Value= 33\n",
      "----------Exit siftDown function\n",
      "----------Enter siftDown function\n",
      "----------Swapping, Parent index= 0 Parent value= 5 child index= 1 Child Value= 100\n",
      "----------Swapping, Parent index= 1 Parent value= 5 child index= 4 Child Value= 77\n",
      "----------Swapping, Parent index= 4 Parent value= 5 child index= 9 Child Value= 56\n",
      "----------Exit siftDown function\n",
      "Heapsort. Loop through list until all items have been removed from the heap\n",
      "Heapsort. 1.swap the root value and the last node value in tree\n",
      "Heapsort. 2.reduce the heap size by 1,\n",
      "Heapsort. 3.restore max heap structure\n",
      "Heapsort. repeat steps 1,2,3\n",
      "----------Enter siftDown function\n",
      "----------Swapping, Parent index= 0 Parent value= 1 child index= 1 Child Value= 77\n",
      "----------Swapping, Parent index= 1 Parent value= 1 child index= 4 Child Value= 56\n",
      "----------Swapping, Parent index= 4 Parent value= 1 child index= 10 Child Value= 45\n",
      "----------Exit siftDown function\n",
      "----------Enter siftDown function\n",
      "----------Swapping, Parent index= 0 Parent value= 1 child index= 2 Child Value= 66\n",
      "----------Swapping, Parent index= 2 Parent value= 1 child index= 5 Child Value= 21\n",
      "----------Exit siftDown function\n",
      "----------Enter siftDown function\n",
      "----------Swapping, Parent index= 0 Parent value= 5 child index= 1 Child Value= 56\n",
      "----------Swapping, Parent index= 1 Parent value= 5 child index= 4 Child Value= 45\n",
      "----------Exit siftDown function\n",
      "----------Enter siftDown function\n",
      "----------Swapping, Parent index= 0 Parent value= 4 child index= 1 Child Value= 45\n",
      "----------Swapping, Parent index= 1 Parent value= 4 child index= 3 Child Value= 33\n",
      "----------Swapping, Parent index= 3 Parent value= 4 child index= 7 Child Value= 6\n",
      "----------Exit siftDown function\n",
      "----------Enter siftDown function\n",
      "----------Swapping, Parent index= 0 Parent value= 4 child index= 1 Child Value= 33\n",
      "----------Swapping, Parent index= 1 Parent value= 4 child index= 3 Child Value= 6\n",
      "----------Exit siftDown function\n",
      "----------Enter siftDown function\n",
      "----------Swapping, Parent index= 0 Parent value= 3 child index= 2 Child Value= 21\n",
      "----------Enter siftDown function\n",
      "----------Swapping, Parent index= 0 Parent value= 1 child index= 1 Child Value= 6\n",
      "----------Swapping, Parent index= 1 Parent value= 1 child index= 4 Child Value= 5\n",
      "----------Exit siftDown function\n",
      "----------Enter siftDown function\n",
      "----------Swapping, Parent index= 0 Parent value= 1 child index= 1 Child Value= 5\n",
      "----------Swapping, Parent index= 1 Parent value= 1 child index= 3 Child Value= 4\n",
      "----------Exit siftDown function\n",
      "----------Enter siftDown function\n",
      "----------Swapping, Parent index= 0 Parent value= 1 child index= 1 Child Value= 4\n",
      "----------Exit siftDown function\n",
      "----------Enter siftDown function\n",
      "----------Enter siftDown function\n",
      "----------Exit siftDown function\n"
     ]
    }
   ],
   "source": [
    "heapsort(L, len(L))\n"
   ]
  },
  {
   "cell_type": "code",
   "execution_count": 17,
   "id": "98f73509",
   "metadata": {},
   "outputs": [
    {
     "data": {
      "text/plain": [
       "[1, 3, 4, 5, 6, 21, 33, 45, 56, 66, 77, 100]"
      ]
     },
     "execution_count": 17,
     "metadata": {},
     "output_type": "execute_result"
    }
   ],
   "source": [
    "L"
   ]
  },
  {
   "cell_type": "code",
   "execution_count": null,
   "id": "6f99bdb3",
   "metadata": {},
   "outputs": [],
   "source": []
  }
 ],
 "metadata": {
  "kernelspec": {
   "display_name": "Python 3 (ipykernel)",
   "language": "python",
   "name": "python3"
  },
  "language_info": {
   "codemirror_mode": {
    "name": "ipython",
    "version": 3
   },
   "file_extension": ".py",
   "mimetype": "text/x-python",
   "name": "python",
   "nbconvert_exporter": "python",
   "pygments_lexer": "ipython3",
   "version": "3.9.7"
  }
 },
 "nbformat": 4,
 "nbformat_minor": 5
}
