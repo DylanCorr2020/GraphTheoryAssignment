{
 "cells": [
  {
   "cell_type": "markdown",
   "id": "e4f3e0f8",
   "metadata": {},
   "source": [
    "## HeapSort"
   ]
  },
  {
   "cell_type": "markdown",
   "id": "4f442a16",
   "metadata": {},
   "source": [
    "### Introduction "
   ]
  },
  {
   "cell_type": "markdown",
   "id": "15237d7c",
   "metadata": {},
   "source": [
    "Heap sort is a comparison-based sorting technique based on Binary Heap data structure.\n",
    "<ul>\n",
    "    <li> You can implement as a binary tree or an array</li>\n",
    "    <li> A binary tree has parents and children </li>\n",
    "    <li> Each parent at most has two children </li>\n",
    "    <li> The top of the tree is called the root node </li>\n",
    "    <li> Start at the root node and fill in heap top to bottom left to right </li>\n",
    "    <li> At the bottom a node doesnt have to have two children </li>\n",
    "    <li> There are two basic types of heap called max heap and min heap </li>\n",
    "</ul>"
   ]
  },
  {
   "cell_type": "markdown",
   "id": "4bb2ca4f",
   "metadata": {},
   "source": [
    "### Max Heap / Min Heap\n",
    "\n"
   ]
  },
  {
   "cell_type": "markdown",
   "id": "08a04b1d",
   "metadata": {},
   "source": [
    "In a max heap the parent always greater than or equal to the child. P >= C\n",
    "In a min heap the parent always less than or equal to the child. P <= C\n",
    "The max heap always has the highest at the root node.\n",
    "The min heap always has the lowest at the root node."
   ]
  },
  {
   "cell_type": "markdown",
   "id": "7a5aa488",
   "metadata": {},
   "source": [
    "### Heapify"
   ]
  },
  {
   "cell_type": "markdown",
   "id": "935f0f89",
   "metadata": {},
   "source": [
    "Heapify is a term used to ensure that the heap adheres to the min or max properties.\n",
    "\n",
    "A binary tree has a fixed structure where you can work out the parent of a child or the child of a parent.\n",
    "\n",
    "A binary tree can be represented in a python list.\n",
    "\n",
    "Start at the root node and fill in the list left to right and top to bottom.\n",
    "\n",
    "e----add in picture \n",
    "\n",
    "To work out the child of a parent or a parent of a child, you can use the following formulas assuming the zeroth element in the array is used.\n",
    "Given P is the parent and C is the child\n",
    "\n",
    "To find chidren of a parent.\n",
    "\n",
    "left C  =  2(P) + 1\n",
    "right C = 2(P) + 2\n",
    "\n",
    "\n",
    "To find the parent of a child.\n",
    "P = (C-1)/2\n",
    "\n",
    "\n",
    "\n",
    "\n",
    "\n",
    "\n"
   ]
  },
  {
   "cell_type": "markdown",
   "id": "8affcf2a",
   "metadata": {},
   "source": [
    "### Heap Addition"
   ]
  },
  {
   "cell_type": "markdown",
   "id": "f7c47e58",
   "metadata": {},
   "source": [
    "In a heap, new values are added to the end of the tree."
   ]
  },
  {
   "cell_type": "markdown",
   "id": "eefd8181",
   "metadata": {},
   "source": [
    "### Heap Deletion"
   ]
  },
  {
   "cell_type": "markdown",
   "id": "d6f8992a",
   "metadata": {},
   "source": [
    "Typically when a deleting from a heap,you delete the root node and replace the root node with last node in tree.\n"
   ]
  },
  {
   "cell_type": "markdown",
   "id": "383cfe70",
   "metadata": {},
   "source": [
    "### Heap Sort "
   ]
  },
  {
   "cell_type": "markdown",
   "id": "eee61be2",
   "metadata": {},
   "source": [
    "Heap sort involves continously deleting the root node (the highest value) until the heap is empty, saving each root value outside the heap, each time replacing the root node with the last node in the tree and heapifying the heap so that the heap is in a max heap state.\n",
    "\n"
   ]
  },
  {
   "cell_type": "markdown",
   "id": "3732f99b",
   "metadata": {},
   "source": [
    "### Implementing Heap Sort in  Python"
   ]
  },
  {
   "cell_type": "code",
   "execution_count": null,
   "id": "84085bdc",
   "metadata": {},
   "outputs": [],
   "source": []
  }
 ],
 "metadata": {
  "kernelspec": {
   "display_name": "Python 3 (ipykernel)",
   "language": "python",
   "name": "python3"
  },
  "language_info": {
   "codemirror_mode": {
    "name": "ipython",
    "version": 3
   },
   "file_extension": ".py",
   "mimetype": "text/x-python",
   "name": "python",
   "nbconvert_exporter": "python",
   "pygments_lexer": "ipython3",
   "version": "3.9.7"
  }
 },
 "nbformat": 4,
 "nbformat_minor": 5
}
